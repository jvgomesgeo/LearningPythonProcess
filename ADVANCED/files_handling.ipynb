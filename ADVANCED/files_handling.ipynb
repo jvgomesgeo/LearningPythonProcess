{
 "cells": [
  {
   "cell_type": "code",
   "execution_count": null,
   "id": "c1b198f1",
   "metadata": {},
   "outputs": [],
   "source": [
    "#python file detection\n",
    "\n",
    "import os\n",
    "\n",
    "file_path = \"C:/Users/30887/Desktop/py/pyth/learning_python-main/ADVANCED/stuff\"\n",
    "\n",
    "if os.path.exists(file_path):\n",
    "    print(f\"The location '{file_path}' exists\")  \n",
    "    if os.path.isfile(file_path): # checks if the file is a file\n",
    "        print(\"That is a file\")\n",
    "    elif os.path.isdir(file_path): # checks if the file is a directory\n",
    "        print(\"That is a directory\")\n",
    "else:\n",
    "    print(f\"The location doesn't exists\")\n",
    "    "
   ]
  },
  {
   "cell_type": "code",
   "execution_count": null,
   "id": "df5a9a85",
   "metadata": {},
   "outputs": [],
   "source": [
    "#Python writing files (.txt, .json, .csv)\n",
    "\n",
    "txt_data = \"I like pizza !\"\n",
    "file_path = \"ADVANCED/output.txt\"\n",
    "\n",
    "# \"w\" write in the file; \"r\" read the file; \"x\" check if the file exists; \"a\" append the file\n",
    "# if has no file in directory, then \"w - write\" method will create it\n",
    "with open(file = file_path, mode=\"w\") as file: \n",
    "     file.write(txt_data)\n",
    "     print(f\"txt file '{file_path}' was created\")"
   ]
  },
  {
   "cell_type": "code",
   "execution_count": null,
   "id": "474312e9",
   "metadata": {},
   "outputs": [],
   "source": [
    "#Python writing files (.txt, .json, .csv)\n",
    "\n",
    "txt_data = \"I like pizza !\"\n",
    "file_path = \"ADVANCED/output.txt\"\n",
    "\n",
    "#this will check if output file is in the directory, if not, it'll be created\n",
    "try:\n",
    "    with open(file = file_path, mode = \"x\") as file:\n",
    "        file.write(txt_data)\n",
    "        print(f\"txt file '{file_path}' was created\")\n",
    "except FileExistsError:\n",
    "    print(\"That file already existis\")"
   ]
  },
  {
   "cell_type": "code",
   "execution_count": null,
   "id": "b4cffd20",
   "metadata": {},
   "outputs": [],
   "source": [
    "#Python writing files (.txt, .json, .csv)\n",
    "file_path = \"ADVANCED/output.txt\"\n",
    "employess = [\"Eugene\", \"Squidward\", \"Spongebob\", \"Patrick\"]\n",
    "# \"w\" write in the file; \"r\" read the file; \"x\" check if the file exists; \"a\" append the file\n",
    "try:\n",
    "    with open(file= file_path, mode= \"a\") as file:\n",
    "        for employee in employess:\n",
    "            file.write(\"\\n\" + employee) # \"\\n\" new line\n",
    "            print(f\"{employee} was appended in the {file_path} file\")\n",
    "except FileNotFoundError:\n",
    "    print(f\"File {file_path} was not found\")"
   ]
  },
  {
   "cell_type": "code",
   "execution_count": null,
   "id": "83f3d1cf",
   "metadata": {},
   "outputs": [],
   "source": [
    "#Python writing files (.json, .csv)\n",
    "\n",
    "import json\n",
    "file_path = \"ADVANCED/output.json\"\n",
    "employee = {\n",
    "    'name': 'Spongebob',\n",
    "    'age': 30,\n",
    "    'job': 'Cook'\n",
    "}\n",
    "# \"w\" write in the file; \"r\" read the file; \"x\" check if the file exists; \"a\" append the file\n",
    "try:\n",
    "    with open(file= file_path, mode= \"w\") as file: \n",
    "        json.dump(employee, file, indent=4 )#indent will format the output to be indented, more readable\n",
    "        print(f\"json file '{file_path}' was created \")\n",
    "except FileNotFoundError:\n",
    "    print(f\"File '{file_path}' was not found\")"
   ]
  }
 ],
 "metadata": {
  "kernelspec": {
   "display_name": "base",
   "language": "python",
   "name": "python3"
  },
  "language_info": {
   "name": "python",
   "version": "3.12.7"
  }
 },
 "nbformat": 4,
 "nbformat_minor": 5
}
